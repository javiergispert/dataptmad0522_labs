{
 "cells": [
  {
   "cell_type": "markdown",
   "id": "55846027",
   "metadata": {},
   "source": [
    "\"\"\"\n",
    "This is a dumb calculator that can add and subtract whole numbers from zero to five.\n",
    "When you run the code, you are prompted to enter two numbers (in the form of English\n",
    "word instead of number) and the operator sign (also in the form of English word).\n",
    "The code will perform the calculation and give the result if your input is what it\n",
    "expects.\n",
    "\n",
    "The code is very long and messy. Refactor it according to what you have learned about\n",
    "code simplicity and efficiency.\n",
    "\"\"\""
   ]
  },
  {
   "cell_type": "code",
   "execution_count": 1,
   "id": "e686b615",
   "metadata": {},
   "outputs": [
    {
     "name": "stdout",
     "output_type": "stream",
     "text": [
      "Welcome to this calculator!\n",
      "It can add and subtract whole numbers from zero to five\n"
     ]
    }
   ],
   "source": [
    "print('Welcome to this calculator!')\n",
    "print('It can add and subtract whole numbers from zero to five')"
   ]
  },
  {
   "cell_type": "code",
   "execution_count": 35,
   "id": "e4fa6f54",
   "metadata": {},
   "outputs": [
    {
     "name": "stdout",
     "output_type": "stream",
     "text": [
      "Please choose your first number (zero to five): one\n",
      "What do you want to do? plus or minus: minus\n",
      "Please choose your second number (zero to five): five\n",
      "one minus five equals negative four\n",
      "Thanks for using this calculator, goodbye :)\n"
     ]
    }
   ],
   "source": [
    "a = input('Please choose your first number (zero to five): ').lower()\n",
    "b = input('What do you want to do? plus or minus: ').lower()\n",
    "c = input('Please choose your second number (zero to five): ').lower()\n",
    "\n",
    "num_opt = ['zero', 'one', 'two', 'three', 'four', 'five']\n",
    "operands= ['plus', 'minus']\n",
    "results = ['zero', 'one', 'two', 'three', 'four', 'five', 'six', 'seven', 'eight', 'nine', 'ten']\n",
    "\n",
    "if a and c not in num_opt or b not in operands:\n",
    "    print(\"I am not able to answer this question. Check your input.\")\n",
    "\n",
    "else:\n",
    "    if b == 'plus':\n",
    "        print(a, b, c, 'equals', results[num_opt.index(a) + num_opt.index(c)])\n",
    "\n",
    "    if b == 'minus':\n",
    "        if num_opt.index(a) >= num_opt.index(c):\n",
    "            print(a, b, c, 'equals', results[num_opt.index(a) - num_opt.index(c)])\n",
    "        else:\n",
    "            print(a, b, c, 'equals', 'negative', results[num_opt.index(c) - num_opt.index(a)])\n",
    "\n",
    "\n",
    "print(\"Thanks for using this calculator, goodbye :)\")"
   ]
  },
  {
   "cell_type": "code",
   "execution_count": null,
   "id": "a49e47b8",
   "metadata": {},
   "outputs": [],
   "source": []
  }
 ],
 "metadata": {
  "kernelspec": {
   "display_name": "Python [conda env:.conda-m1_ih]",
   "language": "python",
   "name": "conda-env-.conda-m1_ih-py"
  },
  "language_info": {
   "codemirror_mode": {
    "name": "ipython",
    "version": 3
   },
   "file_extension": ".py",
   "mimetype": "text/x-python",
   "name": "python",
   "nbconvert_exporter": "python",
   "pygments_lexer": "ipython3",
   "version": "3.9.12"
  }
 },
 "nbformat": 4,
 "nbformat_minor": 5
}
