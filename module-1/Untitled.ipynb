{
 "cells": [
  {
   "cell_type": "code",
   "execution_count": 19,
   "id": "690d26a1",
   "metadata": {},
   "outputs": [],
   "source": [
    "def domain_name(url):\n",
    "    url = url.replace('http://', '')\n",
    "    url = url.replace('http://www.', '')\n",
    "    url = url.replace('www.', '')\n",
    "    url = url.split('.')\n",
    "    return (url[0])"
   ]
  },
  {
   "cell_type": "code",
   "execution_count": 20,
   "id": "aba5d005",
   "metadata": {},
   "outputs": [
    {
     "data": {
      "text/plain": [
       "'zombie-bites'"
      ]
     },
     "execution_count": 20,
     "metadata": {},
     "output_type": "execute_result"
    }
   ],
   "source": [
    "domain_name('http://www.zombie-bites.com')"
   ]
  },
  {
   "cell_type": "code",
   "execution_count": null,
   "id": "52cd07e0",
   "metadata": {},
   "outputs": [],
   "source": []
  }
 ],
 "metadata": {
  "kernelspec": {
   "display_name": "Python [conda env:.conda-m1_ih]",
   "language": "python",
   "name": "conda-env-.conda-m1_ih-py"
  },
  "language_info": {
   "codemirror_mode": {
    "name": "ipython",
    "version": 3
   },
   "file_extension": ".py",
   "mimetype": "text/x-python",
   "name": "python",
   "nbconvert_exporter": "python",
   "pygments_lexer": "ipython3",
   "version": "3.9.12"
  }
 },
 "nbformat": 4,
 "nbformat_minor": 5
}
